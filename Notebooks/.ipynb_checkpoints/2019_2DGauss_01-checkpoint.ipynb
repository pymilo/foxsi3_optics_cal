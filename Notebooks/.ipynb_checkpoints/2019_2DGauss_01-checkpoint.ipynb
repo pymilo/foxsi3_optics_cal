{
 "cells": [
  {
   "cell_type": "markdown",
   "metadata": {},
   "source": [
    "# Visualizing Lab-Data:"
   ]
  },
  {
   "cell_type": "code",
   "execution_count": 23,
   "metadata": {},
   "outputs": [],
   "source": [
    "from astropy.io import fits as pyfits\n",
    "import numpy as np"
   ]
  },
  {
   "cell_type": "code",
   "execution_count": 24,
   "metadata": {},
   "outputs": [
    {
     "name": "stdout",
     "output_type": "stream",
     "text": [
      "Found 6 exposures. Averaging...\n"
     ]
    }
   ],
   "source": [
    "'''Read Fits Files and Darks'''\n",
    "f='/Volumes/Pandora/FOXSI/OpCal/X10Test/data/kFOXSI3_X10-Test_CCD_T2Sx6_10kV_0p02mA_0mmZ.fits'\n",
    "d='/Volumes/Pandora/FOXSI/OpCal/X10Test/Dark1_FOXSI3_X10-Test_CCD_T2Sx6_10kV_0p02mA_+15mmZ.fits'\n",
    "F=pyfits.open(f); D=pyfits.open(d)\n",
    "## compress all images into one image by average all the pixels\n",
    "if len(F[0].data.shape) == 3:\n",
    "    print(\"Found {0} exposures. Averaging...\".format(F[0].data.shape[0]))\n",
    "    data = np.average(F[0].data, axis=0) - np.average(D[0].data, axis=0)\n",
    "else:\n",
    "    data = F[0].data - D[0].data"
   ]
  },
  {
   "cell_type": "code",
   "execution_count": 28,
   "metadata": {},
   "outputs": [],
   "source": [
    "np.meshgrid()"
   ]
  },
  {
   "cell_type": "code",
   "execution_count": 31,
   "metadata": {},
   "outputs": [
    {
     "data": {
      "text/plain": [
       "[array([   0,    1,    2, ..., 1021, 1022, 1023]),\n",
       " array([   0,    1,    2, ..., 1021, 1022, 1023])]"
      ]
     },
     "execution_count": 31,
     "metadata": {},
     "output_type": "execute_result"
    }
   ],
   "source": [
    "[np.arange(v) for v in data.shape]"
   ]
  },
  {
   "cell_type": "code",
   "execution_count": null,
   "metadata": {},
   "outputs": [],
   "source": [
    "np.meshgrid(*[np.arange(v) for v in self.data.shape]) * u.pixel"
   ]
  },
  {
   "cell_type": "code",
   "execution_count": null,
   "metadata": {},
   "outputs": [],
   "source": []
  },
  {
   "cell_type": "code",
   "execution_count": null,
   "metadata": {},
   "outputs": [],
   "source": []
  },
  {
   "cell_type": "code",
   "execution_count": null,
   "metadata": {},
   "outputs": [],
   "source": []
  },
  {
   "cell_type": "code",
   "execution_count": null,
   "metadata": {},
   "outputs": [],
   "source": []
  },
  {
   "cell_type": "code",
   "execution_count": null,
   "metadata": {},
   "outputs": [],
   "source": []
  },
  {
   "cell_type": "code",
   "execution_count": null,
   "metadata": {},
   "outputs": [],
   "source": []
  },
  {
   "cell_type": "code",
   "execution_count": null,
   "metadata": {},
   "outputs": [],
   "source": []
  },
  {
   "cell_type": "code",
   "execution_count": null,
   "metadata": {},
   "outputs": [],
   "source": []
  },
  {
   "cell_type": "code",
   "execution_count": null,
   "metadata": {},
   "outputs": [],
   "source": []
  },
  {
   "cell_type": "code",
   "execution_count": null,
   "metadata": {},
   "outputs": [],
   "source": []
  },
  {
   "cell_type": "code",
   "execution_count": null,
   "metadata": {},
   "outputs": [],
   "source": []
  },
  {
   "cell_type": "code",
   "execution_count": null,
   "metadata": {},
   "outputs": [],
   "source": []
  },
  {
   "cell_type": "code",
   "execution_count": null,
   "metadata": {},
   "outputs": [],
   "source": [
    "fits = pyfits.open(filename)\n",
    "        darks = pyfits.open(darkfile)\n",
    "        # compress all images into one image by average all the pixels\n",
    "        if len(fits[0].data.shape) == 3:\n",
    "            print(\"Found {0} exposures. Averaging...\".format(\n",
    "                fits[0].data.shape[0]))\n",
    "            data = np.average(fits[0].data, axis=0) - np.average(darks[0].data, axis=0)\n",
    "        else:\n",
    "            data = fits[0].data - darks[0].data\n",
    "\n",
    "        # create the wcs information\n",
    "        w = WCS(naxis=2)\n",
    "        w.wcs.crpix = [0, 0]\n",
    "        plate_scale = foxsi_optics_calib.plate_scale(distance).to('arcsec')\n",
    "        w.wcs.cdelt = plate_scale.value * np.ones(2)\n",
    "        w.wcs.crval = [0, 0]\n",
    "        w.wcs.ctype = [\"TAN\", \"TAN\"]\n",
    "        CCDData.__init__(self, data, wcs=w, unit='adu',\n",
    "                         header=deepcopy(fits[0].header))\n",
    "        # save the name of the filename\n",
    "        self.filename = os.path.basename(filename)\n",
    "\n",
    "        x, y = np.meshgrid(*[np.arange(v) for v in self.data.shape]) * u.pixel\n",
    "        self.xaxis, self.yaxis = self.wcs.wcs_pix2world(x, y, 1) * u.arcsec\n",
    "        self.xlim = np.floor(\n",
    "            [np.min(self.xaxis).value, np.max(self.xaxis).value])\n",
    "        self.ylim = np.floor(\n",
    "            [np.min(self.yaxis).value, np.max(self.yaxis).value])\n"
   ]
  },
  {
   "cell_type": "code",
   "execution_count": null,
   "metadata": {},
   "outputs": [],
   "source": []
  },
  {
   "cell_type": "code",
   "execution_count": null,
   "metadata": {},
   "outputs": [],
   "source": []
  },
  {
   "cell_type": "code",
   "execution_count": null,
   "metadata": {},
   "outputs": [],
   "source": []
  },
  {
   "cell_type": "code",
   "execution_count": null,
   "metadata": {},
   "outputs": [],
   "source": []
  },
  {
   "cell_type": "code",
   "execution_count": null,
   "metadata": {},
   "outputs": [],
   "source": []
  },
  {
   "cell_type": "code",
   "execution_count": null,
   "metadata": {},
   "outputs": [],
   "source": []
  }
 ],
 "metadata": {
  "kernelspec": {
   "display_name": "Python 3",
   "language": "python",
   "name": "python3"
  },
  "language_info": {
   "codemirror_mode": {
    "name": "ipython",
    "version": 3
   },
   "file_extension": ".py",
   "mimetype": "text/x-python",
   "name": "python",
   "nbconvert_exporter": "python",
   "pygments_lexer": "ipython3",
   "version": "3.5.5"
  },
  "latex_envs": {
   "LaTeX_envs_menu_present": true,
   "autoclose": false,
   "autocomplete": true,
   "bibliofile": "biblio.bib",
   "cite_by": "apalike",
   "current_citInitial": 1,
   "eqLabelWithNumbers": true,
   "eqNumInitial": 1,
   "hotkeys": {
    "equation": "Ctrl-E",
    "itemize": "Ctrl-I"
   },
   "labels_anchors": false,
   "latex_user_defs": false,
   "report_style_numbering": false,
   "user_envs_cfg": false
  }
 },
 "nbformat": 4,
 "nbformat_minor": 2
}
