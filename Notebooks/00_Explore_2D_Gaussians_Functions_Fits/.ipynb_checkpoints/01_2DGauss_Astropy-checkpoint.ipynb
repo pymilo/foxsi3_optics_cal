{
 "cells": [
  {
   "cell_type": "markdown",
   "metadata": {},
   "source": [
    "## One 2D Gaussian by using astropy.modeling.models.Gaussian2D\n",
    "<div class=\"alert alert-info\">\n",
    "    Goal: To use astropy to plot a single 2D Gaussian using Mayavi\n",
    "</div>\n",
    "Mayavi provides a smoother way to display and rotate the gaussians. It opens on a separe window."
   ]
  },
  {
   "cell_type": "markdown",
   "metadata": {},
   "source": [
    "### Import Packages"
   ]
  },
  {
   "cell_type": "code",
   "execution_count": 1,
   "metadata": {},
   "outputs": [],
   "source": [
    "import numpy as np\n",
    "from astropy.modeling import models\n",
    "from mayavi import mlab"
   ]
  },
  {
   "cell_type": "markdown",
   "metadata": {},
   "source": [
    "### Workspace"
   ]
  },
  {
   "cell_type": "code",
   "execution_count": 2,
   "metadata": {},
   "outputs": [],
   "source": [
    "## Input parameters:\n",
    "amplitude = 30.\n",
    "x_mean = 100.\n",
    "y_mean = 100.\n",
    "x_stddev = 20.\n",
    "y_stddev = 20.\n",
    "theta = 0.0\n",
    "\n",
    "## 2D Gaussian using initial parameters:\n",
    "g2di = models.Gaussian2D(amplitude, x_mean, y_mean, x_stddev, y_stddev, theta)\n",
    "Xg, Yg = np.mgrid[0:201,0:201]\n",
    "Zg = g2di(Xg, Yg)\n",
    "\n",
    "## Plot 2D Gaussian using Mayavi\n",
    "mlab.surf(Zg,warp_scale='auto')\n",
    "mlab.axes()\n",
    "mlab.show()"
   ]
  }
 ],
 "metadata": {
  "kernelspec": {
   "display_name": "Python 3",
   "language": "python",
   "name": "python3"
  },
  "language_info": {
   "codemirror_mode": {
    "name": "ipython",
    "version": 3
   },
   "file_extension": ".py",
   "mimetype": "text/x-python",
   "name": "python",
   "nbconvert_exporter": "python",
   "pygments_lexer": "ipython3",
   "version": "3.7.3"
  },
  "latex_envs": {
   "LaTeX_envs_menu_present": true,
   "autoclose": false,
   "autocomplete": true,
   "bibliofile": "biblio.bib",
   "cite_by": "apalike",
   "current_citInitial": 1,
   "eqLabelWithNumbers": true,
   "eqNumInitial": 1,
   "hotkeys": {
    "equation": "Ctrl-E",
    "itemize": "Ctrl-I"
   },
   "labels_anchors": false,
   "latex_user_defs": false,
   "report_style_numbering": false,
   "user_envs_cfg": false
  }
 },
 "nbformat": 4,
 "nbformat_minor": 2
}
