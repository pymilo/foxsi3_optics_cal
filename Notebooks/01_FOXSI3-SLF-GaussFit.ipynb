{
 "cells": [
  {
   "cell_type": "markdown",
   "metadata": {},
   "source": [
    "# General Goal:\n",
    "<div class=\"alert alert-info\">\n",
    "    To load a set of Data taken at the Stray Light Facility NASA MSFC. They are saved in FITS format. A set of Dark files are also load to be substracted to the data. Two 2D Gaussians are fitted to the data. \n",
    "</div>\n",
    "\n",
    "**Milo @ UC Berkeley**  \n",
    "**Jun 2019**"
   ]
  },
  {
   "cell_type": "markdown",
   "metadata": {},
   "source": [
    "## Load and plot SLF Data:\n",
    "<div class=\"alert alert-info\">\n",
    "    Goal: Simple way to load SLF data, correct by dark frames and plot them in linear and log scales. To run this code you need to have a fits file with the data you want to analyse and a fits with dark frames. Output: Dimensions of the imput data and two plots, one in linear and the other in log color scale.\n",
    "</div>"
   ]
  },
  {
   "cell_type": "markdown",
   "metadata": {
    "heading_collapsed": true
   },
   "source": [
    "### Import Packages:"
   ]
  },
  {
   "cell_type": "code",
   "execution_count": null,
   "metadata": {
    "hidden": true
   },
   "outputs": [],
   "source": [
    "from astropy import wcs\n",
    "from astropy.io import fits as pyfits\n",
    "from ndcube import NDCube\n",
    "from astropy.visualization import ImageNormalize, MinMaxInterval, LogStretch, LinearStretch\n",
    "from astropy.modeling import models, fitting\n",
    "import astropy.units as u\n",
    "import numpy as np\n",
    "import matplotlib.pyplot as plt"
   ]
  },
  {
   "cell_type": "markdown",
   "metadata": {
    "heading_collapsed": true
   },
   "source": [
    "### Worksapce:"
   ]
  },
  {
   "cell_type": "code",
   "execution_count": null,
   "metadata": {
    "hidden": true
   },
   "outputs": [],
   "source": [
    "''' Plate scale '''\n",
    "distance = 2. * u.m ## FOXSI focal distance\n",
    "CCD_PIXEL_PITCH = 13.5 * u.micron ## Andor CCD Pitch in microns\n",
    "binning = 2. ## binning used for collecting data.\n",
    "plate_scale = np.arctan(binning * CCD_PIXEL_PITCH / distance).to(u.arcsec) ## in arcsec\n",
    "\n",
    "''' Path to the folder where to find your data and darks: '''\n",
    "folder = '/Users/Kamilobu/Desktop/Developer/foxsi3_optics_cal/data/'\n",
    "\n",
    "''' File names: '''\n",
    "filename = 'kFOXSI3_X10-Test_CCD_T2Sx6_10kV_0p02mA_0mmZ.fits'  ## name of your data fits file.\n",
    "darkfilename = 'Dark1_FOXSI3_X10-Test_CCD_T2Sx6_10kV_0p02mA_+15mmZ.fits'  ## name of your darks fits file.\n",
    "## These are fits files containing six frames each of 1024x1024 pixels taken at the SLF\n",
    "## using the Andor camera and the Mo X-ray source. Voltages,Currents and Integration Times are \n",
    "## indicated over the names of the files.\n",
    "\n",
    "## Read fits files using astropy.io.fits\n",
    "fits = pyfits.open(folder+filename)\n",
    "darkfits = pyfits.open(folder+darkfilename)\n",
    "print('Data shape  : '+str(fits[0].data.shape))\n",
    "print('Darks shape : '+str(darkfits[0].data.shape))\n",
    "\n",
    "## Create data array corrected by darks:\n",
    "data = np.average(fits[0].data, axis=0) - np.average(darkfits[0].data, axis=0)\n",
    "\n",
    "''' Create the WCS information '''\n",
    "wcs_dict = {\n",
    "    'CTYPE1':'HPLT-TAN', ## To use sunpy this needs to be in helioporject coord.\n",
    "    'CTYPE2':'HPLN-TAN', ## Although strange, it does not affect any of the analysis.\n",
    "    'CUNIT1':'arcsec',\n",
    "    'CUNIT2':'arcsec',\n",
    "    'CDELT1': plate_scale.value, ## Plate scale in arcsec\n",
    "    'CDELT2': plate_scale.value, ## Plate scale in arcsec\n",
    "    'CRPIX1':0,\n",
    "    'CRPIX2':0,\n",
    "    'CRVAL1': 0,\n",
    "    'CRVAL2': 0,\n",
    "    'NAXIS1': data.shape[0],\n",
    "    'NAXIS2': data.shape[1]\n",
    "}\n",
    "input_wcs = wcs.WCS(wcs_dict)\n",
    "\n",
    "''' Create NDCube '''\n",
    "datacube = NDCube(data, input_wcs)\n",
    "max_pixel = np.unravel_index(np.argmax(datacube.data), datacube.data.shape)\n",
    "fov = [20, 20] ## [px,px]\n",
    "\n",
    "# Create an ImageNormalize object\n",
    "normLin = ImageNormalize(datacube.data, interval=MinMaxInterval(),\n",
    "                      stretch=LinearStretch()) ## Linear Color Scale\n",
    "normLog = ImageNormalize(datacube.data, interval=MinMaxInterval(),\n",
    "                      stretch=LogStretch())    ## Log Color Scale\n",
    "\n",
    "''' Plotting '''\n",
    "fig, (ax1, ax2) = plt.subplots(1, 2,figsize=(10,4),subplot_kw=dict(projection=datacube.wcs))\n",
    "fig.subplots_adjust(wspace = 0.4)\n",
    "## Linear Scale:\n",
    "im1 = ax1.imshow(datacube.data, origin='lower', cmap=plt.cm.viridis, norm=normLin)\n",
    "cbar1 = fig.colorbar(im1, ax=ax1, fraction=0.046, pad=0.04)\n",
    "ax1.set_xlim(max_pixel[1]-fov[1], max_pixel[1]+fov[1])\n",
    "ax1.set_ylim(max_pixel[0]-fov[0], max_pixel[0]+fov[0])\n",
    "ax1.set_title('FOXSI3 - SLF Data Linear Color scale [on-axis]',fontsize=12)\n",
    "## Log Scale:\n",
    "im2 = ax2.imshow(datacube.data, origin='lower', cmap=plt.cm.viridis, norm=normLog)\n",
    "cbar2 = fig.colorbar(im2, ax=ax2, fraction=0.046, pad=0.04)\n",
    "ax2.set_xlim(max_pixel[1]-fov[1], max_pixel[1]+fov[1])\n",
    "ax2.set_ylim(max_pixel[0]-fov[0], max_pixel[0]+fov[0])\n",
    "ax2.set_title('FOXSI3 - SLF Data Log Color scale [on-axis]',fontsize=12)\n",
    "plt.show()"
   ]
  },
  {
   "cell_type": "markdown",
   "metadata": {
    "heading_collapsed": true
   },
   "source": [
    "## Fit Three 2D Gaussians\n",
    "<div class=\"alert alert-info\">\n",
    "Goal: To fit Three 2D gaussians to the FOXSI3 SLF data corrected by darks.\n",
    "<div>"
   ]
  },
  {
   "cell_type": "markdown",
   "metadata": {
    "heading_collapsed": true,
    "hidden": true
   },
   "source": [
    "### Import Packages:"
   ]
  },
  {
   "cell_type": "code",
   "execution_count": null,
   "metadata": {
    "hidden": true
   },
   "outputs": [],
   "source": [
    "from astropy import wcs\n",
    "from astropy.io import fits as pyfits\n",
    "from ndcube import NDCube\n",
    "from astropy.visualization import ImageNormalize, MinMaxInterval, LogStretch, LinearStretch\n",
    "from astropy.modeling import models, fitting\n",
    "from mpl_toolkits import mplot3d\n",
    "import astropy.units as u\n",
    "import numpy as np\n",
    "import matplotlib.pyplot as plt\n",
    "import matplotlib.colors as colors"
   ]
  },
  {
   "cell_type": "markdown",
   "metadata": {
    "heading_collapsed": true,
    "hidden": true
   },
   "source": [
    "### Workspace:"
   ]
  },
  {
   "cell_type": "markdown",
   "metadata": {
    "heading_collapsed": true,
    "hidden": true
   },
   "source": [
    "#### Fit of the three 2D-gaussians"
   ]
  },
  {
   "cell_type": "code",
   "execution_count": null,
   "metadata": {
    "hidden": true
   },
   "outputs": [],
   "source": [
    "''' Plate scale '''\n",
    "distance = 2. * u.m ## FOXSI focal distance\n",
    "CCD_PIXEL_PITCH = 13.5 * u.micron ## Andor CCD Pitch in microns\n",
    "binning = 2. ## binning used for collecting data.\n",
    "plate_scale = np.arctan(binning * CCD_PIXEL_PITCH / distance).to(u.arcsec) ## in arcsec\n",
    "\n",
    "''' Path to the folder where to find your data and darks: '''\n",
    "folder = '/Users/Kamilobu/Desktop/Developer/foxsi3_optics_cal/data/'\n",
    "\n",
    "''' File names: '''\n",
    "filename = 'kFOXSI3_X10-Test_CCD_T2Sx6_10kV_0p02mA_0mmZ.fits'  ## name of your data fits file.\n",
    "darkfilename = 'Dark1_FOXSI3_X10-Test_CCD_T2Sx6_10kV_0p02mA_+15mmZ.fits'  ## name of your darks fits file.\n",
    "## These are fits files containing six frames each of 1024x1024 pixels taken at the SLF\n",
    "## using the Andor camera and the Mo X-ray source. Voltages,Currents and Integration Times are \n",
    "## indicated over the names of the files.\n",
    "\n",
    "## Read fits files using astropy.io.fits\n",
    "fits = pyfits.open(folder+filename)\n",
    "darkfits = pyfits.open(folder+darkfilename)\n",
    "\n",
    "## Create data array corrected by darks:\n",
    "data = np.average(fits[0].data, axis=0) - np.average(darkfits[0].data, axis=0)\n",
    "\n",
    "''' Create the WCS information '''\n",
    "wcs_dict = {\n",
    "    'CTYPE1':'HPLT-TAN', ## To use sunpy this needs to be in helioporject coord.\n",
    "    'CTYPE2':'HPLN-TAN', ## Although strange, it does not affect any of the analysis.\n",
    "    'CUNIT1':'arcsec',\n",
    "    'CUNIT2':'arcsec',\n",
    "    'CDELT1': plate_scale.value, ## Plate scale in arcsec\n",
    "    'CDELT2': plate_scale.value, ## Plate scale in arcsec\n",
    "    'CRPIX1':0,\n",
    "    'CRPIX2':0,\n",
    "    'CRVAL1': 0,\n",
    "    'CRVAL2': 0,\n",
    "    'NAXIS1': data.shape[0],\n",
    "    'NAXIS2': data.shape[1]\n",
    "}\n",
    "input_wcs = wcs.WCS(wcs_dict)\n",
    "\n",
    "''' Create NDCube '''\n",
    "datacube = NDCube(data, input_wcs)\n",
    "max_pixel = np.unravel_index(np.argmax(datacube.data), datacube.data.shape)\n",
    "fov = [20, 20] ## [px,px]\n",
    "\n",
    "''' Definition of Two 2D-Gaussians function '''\n",
    "@models.custom_model\n",
    "def ThreeGaussians(x, y,\n",
    "                 x_mean=0, y_mean=0, theta=0,\n",
    "                 amp1=0, x1_stddev=0, y1_stddev=0, ## Gauss1 param\n",
    "                 amp2=0, x2_stddev=0, y2_stddev=0, ## Gauss2 param\n",
    "                 amp3=0, x3_stddev=0, y3_stddev=0, ## Gauss3 param\n",
    "                 offset=0): ## offset\n",
    "    ''' Constrain positive values for the amplitudes '''\n",
    "    if amp1 < 0:\n",
    "        amp1 = 1e12\n",
    "    if amp2 < 0:\n",
    "        amp2 = 1e12\n",
    "    if amp3 < 0:\n",
    "        amp3 = 1e12\n",
    "\n",
    "    '''Define Sum of Gauss funtions'''\n",
    "    g1 = models.Gaussian2D(amp1, x_mean, y_mean, x1_stddev, y1_stddev, theta)\n",
    "    g2 = models.Gaussian2D(amp2, x_mean, y_mean, x2_stddev, y2_stddev, theta)\n",
    "    g3 = models.Gaussian2D(amp3, x_mean, y_mean, x3_stddev, y3_stddev, theta)\n",
    "    ''' Defining Offset '''\n",
    "    oset = models.Const2D(amplitude=offset)\n",
    "    return g1(x,y) + g2(x,y) + g3(x,y) + oset(x,y)\n",
    "\n",
    "## Make X,Y,Z data for the TWO 2D-Gaussians:\n",
    "Xg, Yg = np.mgrid[0:datacube.data.shape[0], 0:datacube.data.shape[1]]\n",
    "\n",
    "''' Fit Three 2D-Gaussians '''\n",
    "## Initial Guess :\n",
    "ThreeG_guess = ThreeGaussians(x_mean=max_pixel[0], y_mean=max_pixel[1], theta=0,\n",
    "                          amp1=0.65*np.max(datacube.data),\n",
    "                          amp2 = 0.25*np.max(datacube.data),\n",
    "                          amp3 = 0.09*np.max(datacube.data),\n",
    "                          x1_stddev=2, y1_stddev=2,\n",
    "                          x2_stddev=2, y2_stddev=2,\n",
    "                          x3_stddev=2, y3_stddev=2,offset=0)\n",
    "\n",
    "## Finding best fit:\n",
    "fit2DG = fitting.LevMarLSQFitter()\n",
    "ThreeG_out = fit2DG(ThreeG_guess, Xg, Yg, datacube.data, maxiter=320) ## maxiter keyword is the max number of iterations.\n",
    "Zout = ThreeG_out(Xg, Yg)\n",
    "\n",
    "## Individual Gaussian Functions:\n",
    "g1 = models.Gaussian2D(ThreeG_out.amp1.value, ThreeG_out.x_mean.value, \n",
    "                       ThreeG_out.y_mean.value, ThreeG_out.x1_stddev.value, \n",
    "                       ThreeG_out.y1_stddev.value, ThreeG_out.theta.value)\n",
    "g2 = models.Gaussian2D(ThreeG_out.amp2.value, ThreeG_out.x_mean.value, \n",
    "                       ThreeG_out.y_mean.value, ThreeG_out.x2_stddev.value, \n",
    "                       ThreeG_out.y2_stddev.value, ThreeG_out.theta.value)\n",
    "g3 = models.Gaussian2D(ThreeG_out.amp3.value, ThreeG_out.x_mean.value, \n",
    "                       ThreeG_out.y_mean.value, ThreeG_out.x3_stddev.value, \n",
    "                       ThreeG_out.y3_stddev.value, ThreeG_out.theta.value)\n",
    "### Individual Gaussian Arrays:\n",
    "G1 = g1(Xg, Yg)\n",
    "G2 = g2(Xg, Yg)\n",
    "G3 = g3(Xg, Yg)"
   ]
  },
  {
   "cell_type": "markdown",
   "metadata": {
    "heading_collapsed": true,
    "hidden": true
   },
   "source": [
    "#### Plotting"
   ]
  },
  {
   "cell_type": "markdown",
   "metadata": {
    "heading_collapsed": true,
    "hidden": true
   },
   "source": [
    "##### Plot Flat Fitted Gaussians "
   ]
  },
  {
   "cell_type": "code",
   "execution_count": null,
   "metadata": {
    "hidden": true
   },
   "outputs": [],
   "source": [
    "# Create ImageNormalize objects:\n",
    "normLogT = ImageNormalize(Zout, interval=MinMaxInterval(),stretch=LogStretch())\n",
    "normLog1 = ImageNormalize(G1, interval=MinMaxInterval(),stretch=LogStretch())\n",
    "normLog2 = ImageNormalize(G2, interval=MinMaxInterval(),stretch=LogStretch())\n",
    "normLog3 = ImageNormalize(G3, interval=MinMaxInterval(),stretch=LogStretch())\n",
    "\n",
    "''' Plotting '''\n",
    "fig, ((ax1, ax2), (ax3, ax4)) = plt.subplots(2, 2,figsize=(10,8),\n",
    "                                             subplot_kw=dict(projection=datacube.wcs))\n",
    "fig.subplots_adjust(wspace = 0.4) ## Sets space between subplots to avoid overlap\n",
    "## Best fit of the all three gaussians:\n",
    "im1 = ax1.imshow(Zout, origin='lower', cmap=plt.cm.viridis,norm=normLogT)\n",
    "cbar1 = fig.colorbar(im1, ax=ax1, fraction=0.046, pad=0.04)\n",
    "ax1.set_xlim(max_pixel[1]-fov[1], max_pixel[1]+fov[1])\n",
    "ax1.set_ylim(max_pixel[0]-fov[0], max_pixel[0]+fov[0])\n",
    "ax1.set_title('Three 2D-GaussFit Log scale',fontsize=14)\n",
    "## Gaussian One:\n",
    "im2 = ax2.imshow(G1, origin='lower', cmap=plt.cm.viridis,norm=normLog1)\n",
    "cbar2 = fig.colorbar(im2,ax=ax2)\n",
    "ax2.set_xlim(max_pixel[1]-fov[1], max_pixel[1]+fov[1])\n",
    "ax2.set_ylim(max_pixel[0]-fov[0], max_pixel[0]+fov[0])\n",
    "ax2.set_title('2D-Gaussian One - Log scale',fontsize=14)\n",
    "## Gaussian Two:\n",
    "im3 = ax3.imshow(G2, origin='lower', cmap=plt.cm.viridis,norm=normLog2)\n",
    "cbar3 = fig.colorbar(im3,ax=ax3)\n",
    "ax3.set_xlim(max_pixel[1]-fov[1], max_pixel[1]+fov[1])\n",
    "ax3.set_ylim(max_pixel[0]-fov[0], max_pixel[0]+fov[0])\n",
    "ax3.set_title('2D-Gaussian Two - Log scale',fontsize=14)\n",
    "## Gaussian Two:\n",
    "im4 = ax4.imshow(G3, origin='lower', cmap=plt.cm.viridis,norm=normLog3)\n",
    "cbar4 = fig.colorbar(im4,ax=ax4)\n",
    "ax4.set_xlim(max_pixel[1]-fov[1], max_pixel[1]+fov[1])\n",
    "ax4.set_ylim(max_pixel[0]-fov[0], max_pixel[0]+fov[0])\n",
    "ax4.set_title('2D-Gaussian Three - Log scale',fontsize=14)\n",
    "plt.show()\n",
    "\n",
    "''' Print what the amplitud ratios are '''\n",
    "print('The amplitud ratios for the three 2D-Gaussians are: A1 = {0}, A2 = {1}, and {2}.'\n",
    "      .format(ThreeG_out.amp1.value/(ThreeG_out.amp1.value+ThreeG_out.amp2.value+ThreeG_out.amp3.value),\n",
    "              ThreeG_out.amp2.value/(ThreeG_out.amp1.value+ThreeG_out.amp2.value+ThreeG_out.amp3.value),\n",
    "              ThreeG_out.amp3.value/(ThreeG_out.amp1.value+ThreeG_out.amp2.value+ThreeG_out.amp3.value),\n",
    "       ))\n",
    "print('Offset = {0}'.format(ThreeG_out.offset.value))"
   ]
  },
  {
   "cell_type": "markdown",
   "metadata": {
    "heading_collapsed": true,
    "hidden": true
   },
   "source": [
    "##### Plot  3D Fitted Gaussians"
   ]
  },
  {
   "cell_type": "code",
   "execution_count": null,
   "metadata": {
    "hidden": true
   },
   "outputs": [],
   "source": [
    "''' Clipping data '''\n",
    "fov = [7,7]\n",
    "sXg = Xg[max_pixel[0]-fov[0]:max_pixel[0]+fov[0],max_pixel[1]-fov[1]:max_pixel[1]+fov[1]]\n",
    "sYg = Yg[max_pixel[0]-fov[0]:max_pixel[0]+fov[0],max_pixel[1]-fov[1]:max_pixel[1]+fov[1]]\n",
    "sZout = ThreeG_out(sXg, sYg)\n",
    "sG1 = g1(sXg, sYg)\n",
    "sG2 = g2(sXg, sYg)\n",
    "sG3 = g3(sXg, sYg)\n",
    "\n",
    "''' 3D plotting '''\n",
    "## Uncomment this line if you want interactivity\n",
    "#%matplotlib notebook\n",
    "%matplotlib inline\n",
    "\n",
    "fig, ((ax1, ax2), (ax3, ax4)) = plt.subplots(2, 2,figsize=(10,8),\n",
    "                                             subplot_kw=dict(projection='3d'))\n",
    "ax1.plot_surface(sXg,sYg,sZout,cmap=plt.cm.viridis)\n",
    "ax1.set_title('Three 2D-GaussFit',fontsize=14)\n",
    "ax1.set_zlim3d(0, sZout.max())\n",
    "ax2.plot_surface(sXg,sYg,sG1,cmap=plt.cm.viridis)\n",
    "ax2.set_title('2D-Gaussian One',fontsize=14)\n",
    "ax2.set_zlim3d(0, sZout.max())\n",
    "ax3.plot_surface(sXg,sYg,sG2,cmap=plt.cm.viridis)\n",
    "ax3.set_title('2D-Gaussian Two',fontsize=14)\n",
    "ax3.set_zlim3d(0, sZout.max())\n",
    "ax4.plot_surface(sXg,sYg,sG3,cmap=plt.cm.viridis)\n",
    "ax4.set_title('2D-Gaussian Three',fontsize=14)\n",
    "ax4.set_zlim3d(0, sZout.max())\n",
    "plt.show()"
   ]
  },
  {
   "cell_type": "markdown",
   "metadata": {
    "heading_collapsed": true,
    "hidden": true
   },
   "source": [
    "##### Plot Difference Data vs Fit"
   ]
  },
  {
   "cell_type": "code",
   "execution_count": null,
   "metadata": {
    "hidden": true
   },
   "outputs": [],
   "source": [
    "fov = [15,15]\n",
    "fig, ax1 = plt.subplots(figsize=(6,6),subplot_kw=dict(projection=datacube.wcs))\n",
    "im1 = ax1.imshow(datacube.data-Zout, origin='lower', cmap=plt.cm.bwr_r)\n",
    "cbar1 = fig.colorbar(im1, ax=ax1, fraction=0.046, pad=0.04)\n",
    "ax1.set_xlim(max_pixel[1]-fov[1], max_pixel[1]+fov[1])\n",
    "ax1.set_ylim(max_pixel[0]-fov[0], max_pixel[0]+fov[0])\n",
    "ax1.set_title('Difference Data vs Fit - Log scale',fontsize=18)\n",
    "plt.show()"
   ]
  },
  {
   "cell_type": "markdown",
   "metadata": {},
   "source": [
    "## FWHM Function\n",
    "<div class=\"alert alert-info\">\n",
    "Goal: To define a function that calculates the Full Width at Half Max for the FOXSI3-SLF Data (Corrected by darks) as a function of the Azimuthal angle. It uses the three 2D-Gaussians fit to estimate such that values. \n",
    "</div>"
   ]
  },
  {
   "cell_type": "markdown",
   "metadata": {},
   "source": [
    "### Import Packages:"
   ]
  },
  {
   "cell_type": "code",
   "execution_count": 75,
   "metadata": {},
   "outputs": [],
   "source": [
    "from astropy import wcs\n",
    "from astropy.io import fits as pyfits\n",
    "from astropy.visualization import ImageNormalize,MinMaxInterval, LogStretch\n",
    "from ndcube import NDCube\n",
    "from astropy.modeling import models, fitting\n",
    "from mpl_toolkits import mplot3d\n",
    "from scipy.optimize import brentq\n",
    "import astropy.units as u\n",
    "import numpy as np\n",
    "import matplotlib.pyplot as plt"
   ]
  },
  {
   "cell_type": "markdown",
   "metadata": {},
   "source": [
    "### Workspace:"
   ]
  },
  {
   "cell_type": "markdown",
   "metadata": {},
   "source": [
    "#### Fit of the Three 2D-Gaussians:"
   ]
  },
  {
   "cell_type": "code",
   "execution_count": 76,
   "metadata": {},
   "outputs": [],
   "source": [
    "''' Plate scale '''\n",
    "distance = 2. * u.m ## FOXSI focal distance\n",
    "CCD_PIXEL_PITCH = 13.5 * u.micron ## Andor CCD Pitch in microns\n",
    "binning = 2. ## binning used for collecting data.\n",
    "plate_scale = np.arctan(binning * CCD_PIXEL_PITCH / distance).to(u.arcsec) ## in arcsec\n",
    "\n",
    "''' Path to the folder where to find your data and darks: '''\n",
    "folder = '/Users/Kamilobu/Desktop/Developer/foxsi3_optics_cal/data/'\n",
    "\n",
    "''' File names: '''\n",
    "filename = 'kFOXSI3_X10-Test_CCD_T2Sx6_10kV_0p02mA_0mmZ.fits'  ## name of your data fits file.\n",
    "darkfilename = 'Dark1_FOXSI3_X10-Test_CCD_T2Sx6_10kV_0p02mA_+15mmZ.fits'  ## name of your darks fits file.\n",
    "## These are fits files containing six frames each of 1024x1024 pixels taken at the SLF\n",
    "## using the Andor camera and the Mo X-ray source. Voltages,Currents and Integration Times are \n",
    "## indicated over the names of the files.\n",
    "\n",
    "## Read fits files using astropy.io.fits\n",
    "fits = pyfits.open(folder+filename)\n",
    "darkfits = pyfits.open(folder+darkfilename)\n",
    "\n",
    "## Create data array corrected by darks:\n",
    "data = np.average(fits[0].data, axis=0) - np.average(darkfits[0].data, axis=0)\n",
    "\n",
    "''' Create the WCS information '''\n",
    "wcs_dict = {\n",
    "    'CTYPE1':'HPLT-TAN', ## To use sunpy this needs to be in helioporject coord.\n",
    "    'CTYPE2':'HPLN-TAN', ## Although strange, it does not affect any of the analysis.\n",
    "    'CUNIT1':'arcsec',\n",
    "    'CUNIT2':'arcsec',\n",
    "    'CDELT1': plate_scale.value, ## Plate scale in arcsec\n",
    "    'CDELT2': plate_scale.value, ## Plate scale in arcsec\n",
    "    'CRPIX1':0,\n",
    "    'CRPIX2':0,\n",
    "    'CRVAL1': 0,\n",
    "    'CRVAL2': 0,\n",
    "    'NAXIS1': data.shape[0],\n",
    "    'NAXIS2': data.shape[1]\n",
    "}\n",
    "input_wcs = wcs.WCS(wcs_dict)\n",
    "\n",
    "''' Create NDCube '''\n",
    "datacube = NDCube(data, input_wcs)\n",
    "max_pixel = np.unravel_index(np.argmax(datacube.data), datacube.data.shape)\n",
    "fov = [20, 20] ## [px,px]\n",
    "\n",
    "''' Definition of Two 2D-Gaussians function '''\n",
    "@models.custom_model\n",
    "def ThreeGaussians(x, y,\n",
    "                 x_mean=0, y_mean=0, theta=0,\n",
    "                 amp1=0, x1_stddev=0, y1_stddev=0, ## Gauss1 param\n",
    "                 amp2=0, x2_stddev=0, y2_stddev=0, ## Gauss2 param\n",
    "                 amp3=0, x3_stddev=0, y3_stddev=0, ## Gauss3 param\n",
    "                 offset=0): ## offset\n",
    "    ''' Constrain positive values for the amplitudes '''\n",
    "    if amp1 < 0:\n",
    "        amp1 = 1e12\n",
    "    if amp2 < 0:\n",
    "        amp2 = 1e12\n",
    "    if amp3 < 0:\n",
    "        amp3 = 1e12\n",
    "\n",
    "    '''Define Sum of Gauss funtions'''\n",
    "    g1 = models.Gaussian2D(amp1, x_mean, y_mean, x1_stddev, y1_stddev, theta)\n",
    "    g2 = models.Gaussian2D(amp2, x_mean, y_mean, x2_stddev, y2_stddev, theta)\n",
    "    g3 = models.Gaussian2D(amp3, x_mean, y_mean, x3_stddev, y3_stddev, theta)\n",
    "    ''' Defining Offset '''\n",
    "    oset = models.Const2D(amplitude=offset)\n",
    "    return g1(x,y) + g2(x,y) + g3(x,y) + oset(x,y)\n",
    "\n",
    "## Make X,Y,Z data for the TWO 2D-Gaussians:\n",
    "Xg, Yg = np.mgrid[0:datacube.data.shape[0], 0:datacube.data.shape[1]]\n",
    "\n",
    "''' Fit Three 2D-Gaussians '''\n",
    "## Initial Guess :\n",
    "ThreeG_guess = ThreeGaussians(x_mean=max_pixel[0], y_mean=max_pixel[1], theta=0,\n",
    "                          amp1=0.65*np.max(datacube.data),\n",
    "                          amp2 = 0.25*np.max(datacube.data),\n",
    "                          amp3 = 0.09*np.max(datacube.data),\n",
    "                          x1_stddev=2, y1_stddev=2,\n",
    "                          x2_stddev=2, y2_stddev=2,\n",
    "                          x3_stddev=2, y3_stddev=2,offset=0)\n",
    "\n",
    "## Finding best fit:\n",
    "fit2DG = fitting.LevMarLSQFitter()\n",
    "ThreeG_out = fit2DG(ThreeG_guess, Xg, Yg, datacube.data, maxiter=320) ## maxiter keyword is the max number of iterations.\n",
    "Zout = ThreeG_out(Xg, Yg)"
   ]
  },
  {
   "cell_type": "markdown",
   "metadata": {},
   "source": [
    "#### Estimate the FWHM on X and Y"
   ]
  },
  {
   "cell_type": "markdown",
   "metadata": {},
   "source": [
    "The general equation that we are fiiting is:\n",
    "\\begin{align}\\label{eq:}\n",
    "z(x,y)= &A_1\\exp[-(x-x_0)^2/2\\sigma_{x_1}^2 - (y-y_0)^2/2\\sigma_{y_1}^2] \\nonumber\\\\\n",
    "+& A_2\\exp[-(x-x_0)^2/2\\sigma_{x_2}^2 - (y-y_0)^2/2\\sigma_{y_2}^2] \\nonumber\\\\\n",
    "+& A_3\\exp[-(x-x_0)^2/2\\sigma_{x_3}^2 - (y-y_0)^2/2\\sigma_{y_3}^2] + Const\\nonumber\n",
    "\\end{align}\n",
    "\n",
    "So, the Full Width at Half Maximum is defined when $z(x,y)=(A_1+A_2+A_3)/2$. This equation is not analitically solvable for y. "
   ]
  },
  {
   "cell_type": "code",
   "execution_count": 77,
   "metadata": {},
   "outputs": [],
   "source": [
    "def x_fwhm_minmax(G3):\n",
    "    factor = 4*np.sqrt(2*np.log(2))*(G3.x1_stddev+\n",
    "                                     G3.x2_stddev+G3.x3_stddev)\n",
    "    x_fwhm_min = brentq(G3,G3.x_mean.value-factor, \n",
    "                            G3.x_mean.value,args=(G3.y_mean.value))\n",
    "    x_fwhm_max = brentq(G3,G3.x_mean.value, \n",
    "                            G3.x_mean.value+factor,args=(G3.y_mean.value))\n",
    "    return(x_fwhm_min,x_fwhm_max)\n",
    "\n",
    "def G3y(y,x,G3): ## Flip argument order. Needed to find zeros on y-axis.\n",
    "    return G3(x,y)\n",
    "\n",
    "''' Find the FWHM '''\n",
    "def find_fwhm(G3,x): ## Input should be a 3-2D-Gaussian Function. e.g. ThreeG_out\n",
    "    factor = 4*np.sqrt(2*np.log(2))*(G3.y1_stddev+\n",
    "                                     G3.y2_stddev+G3.y3_stddev)\n",
    "    y_fwhm_down = brentq(G3y,G3.y_mean.value-factor, \n",
    "                            G3.y_mean.value,args=(x,G3))    \n",
    "    y_fwhm_up = brentq(G3y,G3.y_mean.value, \n",
    "                            G3.y_mean.value+factor,args=(x,G3))    \n",
    "    return (y_fwhm_down,y_fwhm_up)\n",
    "\n",
    "maximum = ThreeG_out.amp1.value \\\n",
    "            + ThreeG_out.amp2.value \\\n",
    "            + ThreeG_out.amp3.value\n",
    "half_maximum = 0.5 * maximum\n",
    "ThreeG_out.offset -= half_maximum\n",
    "\n",
    "npoints = 50\n",
    "x_fwhm = ThreeG_out.x_mean+(ThreeG_out.x_mean - \n",
    "                   x_fwhm_minmax(ThreeG_out)[0]-1e-3)*np.sin((np.pi/2)*np.linspace(-1,1,npoints))\n",
    "y_fwhm_up_l,y_fwhm_down_l = [],[] \n",
    "for x in x_fwhm:\n",
    "    y_fwhm = find_fwhm(ThreeG_out,x)\n",
    "    y_fwhm_down_l.append(y_fwhm[0])\n",
    "    y_fwhm_up_l.append(y_fwhm[1])\n",
    "y_fwhm_down = np.array(y_fwhm_down_l)\n",
    "y_fwhm_up = np.array(y_fwhm_up_l)\n",
    "\n",
    "ThreeG_out.offset += half_maximum"
   ]
  },
  {
   "cell_type": "markdown",
   "metadata": {},
   "source": [
    "#### Plotting a map of the FWHM"
   ]
  },
  {
   "cell_type": "code",
   "execution_count": 78,
   "metadata": {},
   "outputs": [
    {
     "data": {
      "image/png": "[encoded data removed]",
      "text/plain": [
       "<Figure size 360x360 with 2 Axes>"
      ]
     },
     "metadata": {
      "needs_background": "light"
     },
     "output_type": "display_data"
    }
   ],
   "source": [
    "# Create ImageNormalize objects:\n",
    "normLogT = ImageNormalize(Zout, interval=MinMaxInterval(),stretch=LogStretch())\n",
    "\n",
    "''' Plotting '''\n",
    "fig, ax1 = plt.subplots(figsize=(5,5),subplot_kw=dict(projection=datacube.wcs))\n",
    "fig.subplots_adjust(wspace = 0.4) ## Sets space between subplots to avoid overlap\n",
    "## Best fit of the all three gaussians:\n",
    "im1 = ax1.imshow(Zout, origin='lower', cmap=plt.cm.viridis,norm=normLogT)\n",
    "cbar1 = fig.colorbar(im1, ax=ax1, fraction=0.046, pad=0.04)\n",
    "ax1.set_xlim(max_pixel[1]-fov[1], max_pixel[1]+fov[1])\n",
    "ax1.set_ylim(max_pixel[0]-fov[0], max_pixel[0]+fov[0])\n",
    "ax1.set_title('Three 2D-GaussFit Log scale',fontsize=14)\n",
    "ax1.scatter(y_fwhm_up,x_fwhm,color='white')\n",
    "ax1.scatter(y_fwhm_down,x_fwhm,color='white')\n",
    "plt.show()"
   ]
  },
  {
   "cell_type": "markdown",
   "metadata": {},
   "source": [
    "#### Plot of FWHM vs Azimuthal angle"
   ]
  },
  {
   "cell_type": "code",
   "execution_count": 79,
   "metadata": {},
   "outputs": [
    {
     "data": {
      "image/png": "[encoded data removed]",
      "text/plain": [
       "<Figure size 360x360 with 1 Axes>"
      ]
     },
     "metadata": {
      "needs_background": "light"
     },
     "output_type": "display_data"
    },
    {
     "name": "stdout",
     "output_type": "stream",
     "text": [
      "The average FWHM over the azimuthal angle is 7.4387 arcsecs.\n"
     ]
    }
   ],
   "source": [
    "r_up = np.sqrt((x_fwhm-ThreeG_out.x_mean)**2 + (y_fwhm_up-ThreeG_out.y_mean)**2)\n",
    "r_down = np.sqrt((x_fwhm-ThreeG_out.x_mean)**2 + (y_fwhm_down-ThreeG_out.y_mean)**2)\n",
    "phi_up = np.arctan2((y_fwhm_up-ThreeG_out.y_mean),(x_fwhm-ThreeG_out.x_mean))\n",
    "phi_down = np.arctan2((y_fwhm_down-ThreeG_out.y_mean),(x_fwhm-ThreeG_out.x_mean))\n",
    "\n",
    "r = np.concatenate((r_up,r_down))\n",
    "phi = np.concatenate((phi_up,phi_down))\n",
    "## Polar Plot:\n",
    "fig, ax = plt.subplots(figsize=(5,5),subplot_kw=dict(projection='polar'))\n",
    "ax.plot(phi, 2*r*plate_scale,'o')\n",
    "ax.set_rmax(8)\n",
    "ax.set_rmin(6)\n",
    "ax.set_rticks([6, 6.5, 7, 7.5, 8])\n",
    "ax.set_title(\"FWHM vs. azimuthal angle\",fontsize=20)\n",
    "plt.show()\n",
    "print('The average FWHM over the azimuthal angle is {0} arcsecs.'.format(round(2*r.mean()*plate_scale.value,4)))"
   ]
  },
  {
   "cell_type": "markdown",
   "metadata": {
    "heading_collapsed": true
   },
   "source": [
    "## HPD Function\n",
    "<div class=\"alert alert-info\">\n",
    "Goal: To define a function that calculates the Half POwer Diameter for the FOXSI3-SLF Data (Corrected by darks) as a function of the Azimuthal angle. It uses the three 2D-Gaussians fit to estimate such that values. \n",
    "</div>"
   ]
  },
  {
   "cell_type": "markdown",
   "metadata": {
    "heading_collapsed": true,
    "hidden": true
   },
   "source": [
    "### Import Packages (Depurar)"
   ]
  },
  {
   "cell_type": "code",
   "execution_count": 1,
   "metadata": {
    "hidden": true
   },
   "outputs": [],
   "source": [
    "from astropy import wcs\n",
    "from astropy.io import fits as pyfits\n",
    "from astropy.visualization import ImageNormalize,MinMaxInterval, LogStretch\n",
    "from ndcube import NDCube\n",
    "from astropy.modeling import models, fitting\n",
    "from mpl_toolkits import mplot3d\n",
    "from scipy.optimize import brentq\n",
    "import astropy.units as u\n",
    "import numpy as np\n",
    "import matplotlib.pyplot as plt"
   ]
  },
  {
   "cell_type": "markdown",
   "metadata": {
    "heading_collapsed": true,
    "hidden": true
   },
   "source": [
    "### Workspace"
   ]
  },
  {
   "cell_type": "markdown",
   "metadata": {
    "heading_collapsed": true,
    "hidden": true
   },
   "source": [
    "#### Fit of the Three 2D-Gaussians:"
   ]
  },
  {
   "cell_type": "code",
   "execution_count": 2,
   "metadata": {
    "hidden": true
   },
   "outputs": [],
   "source": [
    "''' Plate scale '''\n",
    "distance = 2. * u.m ## FOXSI focal distance\n",
    "CCD_PIXEL_PITCH = 13.5 * u.micron ## Andor CCD Pitch in microns\n",
    "binning = 2. ## binning used for collecting data.\n",
    "plate_scale = np.arctan(binning * CCD_PIXEL_PITCH / distance).to(u.arcsec) ## in arcsec\n",
    "\n",
    "''' Path to the folder where to find your data and darks: '''\n",
    "folder = '/Users/Kamilobu/Desktop/Developer/foxsi3_optics_cal/data/'\n",
    "\n",
    "''' File names: '''\n",
    "filename = 'kFOXSI3_X10-Test_CCD_T2Sx6_10kV_0p02mA_0mmZ.fits'  ## name of your data fits file.\n",
    "darkfilename = 'Dark1_FOXSI3_X10-Test_CCD_T2Sx6_10kV_0p02mA_+15mmZ.fits'  ## name of your darks fits file.\n",
    "## These are fits files containing six frames each of 1024x1024 pixels taken at the SLF\n",
    "## using the Andor camera and the Mo X-ray source. Voltages,Currents and Integration Times are \n",
    "## indicated over the names of the files.\n",
    "\n",
    "## Read fits files using astropy.io.fits\n",
    "fits = pyfits.open(folder+filename)\n",
    "darkfits = pyfits.open(folder+darkfilename)\n",
    "\n",
    "## Create data array corrected by darks:\n",
    "data = np.average(fits[0].data, axis=0) - np.average(darkfits[0].data, axis=0)\n",
    "\n",
    "''' Create the WCS information '''\n",
    "wcs_dict = {\n",
    "    'CTYPE1':'HPLT-TAN', ## To use sunpy this needs to be in helioporject coord.\n",
    "    'CTYPE2':'HPLN-TAN', ## Although strange, it does not affect any of the analysis.\n",
    "    'CUNIT1':'arcsec',\n",
    "    'CUNIT2':'arcsec',\n",
    "    'CDELT1': plate_scale.value, ## Plate scale in arcsec\n",
    "    'CDELT2': plate_scale.value, ## Plate scale in arcsec\n",
    "    'CRPIX1':0,\n",
    "    'CRPIX2':0,\n",
    "    'CRVAL1': 0,\n",
    "    'CRVAL2': 0,\n",
    "    'NAXIS1': data.shape[0],\n",
    "    'NAXIS2': data.shape[1]\n",
    "}\n",
    "input_wcs = wcs.WCS(wcs_dict)\n",
    "\n",
    "''' Create NDCube '''\n",
    "datacube = NDCube(data, input_wcs)\n",
    "max_pixel = np.unravel_index(np.argmax(datacube.data), datacube.data.shape)\n",
    "fov = [20, 20] ## [px,px]\n",
    "\n",
    "''' Definition of Two 2D-Gaussians function '''\n",
    "@models.custom_model\n",
    "def ThreeGaussians(x, y,\n",
    "                 x_mean=0, y_mean=0, theta=0,\n",
    "                 amp1=0, x1_stddev=0, y1_stddev=0, ## Gauss1 param\n",
    "                 amp2=0, x2_stddev=0, y2_stddev=0, ## Gauss2 param\n",
    "                 amp3=0, x3_stddev=0, y3_stddev=0, ## Gauss3 param\n",
    "                 offset=0): ## offset\n",
    "    ''' Constrain positive values for the amplitudes '''\n",
    "    if amp1 < 0:\n",
    "        amp1 = 1e12\n",
    "    if amp2 < 0:\n",
    "        amp2 = 1e12\n",
    "    if amp3 < 0:\n",
    "        amp3 = 1e12\n",
    "\n",
    "    '''Define Sum of Gauss funtions'''\n",
    "    g1 = models.Gaussian2D(amp1, x_mean, y_mean, x1_stddev, y1_stddev, theta)\n",
    "    g2 = models.Gaussian2D(amp2, x_mean, y_mean, x2_stddev, y2_stddev, theta)\n",
    "    g3 = models.Gaussian2D(amp3, x_mean, y_mean, x3_stddev, y3_stddev, theta)\n",
    "    ''' Defining Offset '''\n",
    "    oset = models.Const2D(amplitude=offset)\n",
    "    return g1(x,y) + g2(x,y) + g3(x,y) + oset(x,y)\n",
    "\n",
    "## Make X,Y,Z data for the TWO 2D-Gaussians:\n",
    "Xg, Yg = np.mgrid[0:datacube.data.shape[0], 0:datacube.data.shape[1]]\n",
    "\n",
    "''' Fit Three 2D-Gaussians '''\n",
    "## Initial Guess :\n",
    "ThreeG_guess = ThreeGaussians(x_mean=max_pixel[0], y_mean=max_pixel[1], theta=0,\n",
    "                          amp1=0.65*np.max(datacube.data),\n",
    "                          amp2 = 0.25*np.max(datacube.data),\n",
    "                          amp3 = 0.09*np.max(datacube.data),\n",
    "                          x1_stddev=2, y1_stddev=2,\n",
    "                          x2_stddev=2, y2_stddev=2,\n",
    "                          x3_stddev=2, y3_stddev=2,offset=0)\n",
    "\n",
    "## Finding best fit:\n",
    "fit2DG = fitting.LevMarLSQFitter()\n",
    "ThreeG_out = fit2DG(ThreeG_guess, Xg, Yg, datacube.data, maxiter=320) ## maxiter keyword is the max number of iterations.\n",
    "Zout = ThreeG_out(Xg, Yg)"
   ]
  },
  {
   "cell_type": "markdown",
   "metadata": {
    "heading_collapsed": true,
    "hidden": true
   },
   "source": [
    "#### HPD Function"
   ]
  },
  {
   "cell_type": "code",
   "execution_count": 72,
   "metadata": {
    "hidden": true
   },
   "outputs": [],
   "source": [
    "def hpd(data):\n",
    "    max_pixel_range = 30\n",
    "    r = np.sqrt((Xg - max_pixel[0]) ** 2 + (Yg - max_pixel[1]) ** 2)\n",
    "    hpd_array = np.zeros_like(np.arange(max_pixel_range).astype('float')) ## Shape: (10,)\n",
    "    for i in np.arange(max_pixel_range):\n",
    "        hpd_array[i] = np.sum(data[r < i])\n",
    "    hpd_array /= hpd_array.max()\n",
    "    plt.plot(hpd_array,'-o')\n",
    "    plt.show()\n",
    "    return 2 * np.interp(0.5, hpd_array, np.arange(max_pixel_range) * plate_scale)"
   ]
  },
  {
   "cell_type": "code",
   "execution_count": 73,
   "metadata": {
    "hidden": true
   },
   "outputs": [
    {
     "data": {
      "image/png": "[encoded data removed]",
      "text/plain": [
       "<Figure size 432x288 with 1 Axes>"
      ]
     },
     "metadata": {
      "needs_background": "light"
     },
     "output_type": "display_data"
    },
    {
     "name": "stdout",
     "output_type": "stream",
     "text": [
      "HPD Actual Data = 21.0 arcsecs.\n"
     ]
    }
   ],
   "source": [
    "print('HPD Actual Data = {0} arcsecs.'.format(round(hpd(datacube.data)),5))"
   ]
  },
  {
   "cell_type": "code",
   "execution_count": 74,
   "metadata": {
    "hidden": true
   },
   "outputs": [
    {
     "data": {
      "image/png": "[encoded data removed]",
      "text/plain": [
       "<Figure size 432x288 with 1 Axes>"
      ]
     },
     "metadata": {
      "needs_background": "light"
     },
     "output_type": "display_data"
    },
    {
     "name": "stdout",
     "output_type": "stream",
     "text": [
      "HPD Actual Data = 16.0 arcsecs.\n"
     ]
    }
   ],
   "source": [
    "print('HPD Actual Data = {0} arcsecs.'.format(round(hpd(Zout)),5))"
   ]
  },
  {
   "cell_type": "code",
   "execution_count": null,
   "metadata": {
    "hidden": true
   },
   "outputs": [],
   "source": []
  },
  {
   "cell_type": "code",
   "execution_count": null,
   "metadata": {
    "hidden": true
   },
   "outputs": [],
   "source": []
  },
  {
   "cell_type": "code",
   "execution_count": null,
   "metadata": {
    "hidden": true
   },
   "outputs": [],
   "source": []
  },
  {
   "cell_type": "code",
   "execution_count": null,
   "metadata": {
    "hidden": true
   },
   "outputs": [],
   "source": []
  },
  {
   "cell_type": "code",
   "execution_count": null,
   "metadata": {
    "hidden": true
   },
   "outputs": [],
   "source": []
  },
  {
   "cell_type": "code",
   "execution_count": null,
   "metadata": {
    "hidden": true
   },
   "outputs": [],
   "source": []
  },
  {
   "cell_type": "code",
   "execution_count": null,
   "metadata": {
    "hidden": true
   },
   "outputs": [],
   "source": []
  },
  {
   "cell_type": "code",
   "execution_count": null,
   "metadata": {
    "hidden": true
   },
   "outputs": [],
   "source": []
  },
  {
   "cell_type": "code",
   "execution_count": null,
   "metadata": {
    "hidden": true
   },
   "outputs": [],
   "source": []
  },
  {
   "cell_type": "code",
   "execution_count": null,
   "metadata": {
    "hidden": true
   },
   "outputs": [],
   "source": []
  },
  {
   "cell_type": "code",
   "execution_count": null,
   "metadata": {
    "hidden": true
   },
   "outputs": [],
   "source": []
  },
  {
   "cell_type": "code",
   "execution_count": null,
   "metadata": {
    "hidden": true
   },
   "outputs": [],
   "source": []
  },
  {
   "cell_type": "code",
   "execution_count": null,
   "metadata": {
    "hidden": true
   },
   "outputs": [],
   "source": []
  },
  {
   "cell_type": "code",
   "execution_count": null,
   "metadata": {
    "hidden": true
   },
   "outputs": [],
   "source": []
  },
  {
   "cell_type": "code",
   "execution_count": null,
   "metadata": {
    "hidden": true
   },
   "outputs": [],
   "source": []
  },
  {
   "cell_type": "code",
   "execution_count": null,
   "metadata": {
    "hidden": true
   },
   "outputs": [],
   "source": []
  },
  {
   "cell_type": "code",
   "execution_count": null,
   "metadata": {
    "hidden": true
   },
   "outputs": [],
   "source": []
  },
  {
   "cell_type": "code",
   "execution_count": null,
   "metadata": {
    "hidden": true
   },
   "outputs": [],
   "source": []
  },
  {
   "cell_type": "code",
   "execution_count": null,
   "metadata": {
    "hidden": true
   },
   "outputs": [],
   "source": []
  },
  {
   "cell_type": "code",
   "execution_count": null,
   "metadata": {
    "hidden": true
   },
   "outputs": [],
   "source": []
  },
  {
   "cell_type": "code",
   "execution_count": null,
   "metadata": {
    "hidden": true
   },
   "outputs": [],
   "source": []
  },
  {
   "cell_type": "code",
   "execution_count": null,
   "metadata": {
    "hidden": true
   },
   "outputs": [],
   "source": []
  }
 ],
 "metadata": {
  "kernelspec": {
   "display_name": "Python 3",
   "language": "python",
   "name": "python3"
  },
  "language_info": {
   "codemirror_mode": {
    "name": "ipython",
    "version": 3
   },
   "file_extension": ".py",
   "mimetype": "text/x-python",
   "name": "python",
   "nbconvert_exporter": "python",
   "pygments_lexer": "ipython3",
   "version": "3.7.3"
  },
  "latex_envs": {
   "LaTeX_envs_menu_present": true,
   "autoclose": false,
   "autocomplete": true,
   "bibliofile": "biblio.bib",
   "cite_by": "apalike",
   "current_citInitial": 1,
   "eqLabelWithNumbers": true,
   "eqNumInitial": 1,
   "hotkeys": {
    "equation": "Ctrl-E",
    "itemize": "Ctrl-I"
   },
   "labels_anchors": false,
   "latex_user_defs": false,
   "report_style_numbering": false,
   "user_envs_cfg": false
  }
 },
 "nbformat": 4,
 "nbformat_minor": 2
}
