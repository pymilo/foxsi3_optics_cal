{
 "cells": [
  {
   "cell_type": "markdown",
   "metadata": {},
   "source": [
    "## Fit Three 2D Gaussians\n",
    "<div class=\"alert alert-info\">\n",
    "Goal: To fit Three 2D gaussians to the FOXSI3 SLF data corrected by darks.\n",
    "<div>"
   ]
  },
  {
   "cell_type": "markdown",
   "metadata": {},
   "source": [
    "### Import Packages:"
   ]
  },
  {
   "cell_type": "code",
   "execution_count": 1,
   "metadata": {},
   "outputs": [],
   "source": [
    "from astropy import wcs\n",
    "from astropy.io import fits as pyfits\n",
    "from ndcube import NDCube\n",
    "from astropy.visualization import ImageNormalize, MinMaxInterval, LogStretch, LinearStretch\n",
    "from astropy.modeling import models, fitting\n",
    "from mpl_toolkits import mplot3d\n",
    "import astropy.units as u\n",
    "import numpy as np\n",
    "import matplotlib.pyplot as plt\n",
    "import matplotlib.colors as colors"
   ]
  },
  {
   "cell_type": "markdown",
   "metadata": {},
   "source": [
    "### Workspace:"
   ]
  },
  {
   "cell_type": "markdown",
   "metadata": {},
   "source": [
    "#### Fit of the three 2D-gaussians"
   ]
  },
  {
   "cell_type": "code",
   "execution_count": null,
   "metadata": {},
   "outputs": [],
   "source": [
    "''' Plate scale '''\n",
    "distance = 2. * u.m ## FOXSI focal distance\n",
    "CCD_PIXEL_PITCH = 13.5 * u.micron ## Andor CCD Pitch in microns\n",
    "binning = 2. ## binning used for collecting data.\n",
    "plate_scale = np.arctan(binning * CCD_PIXEL_PITCH / distance).to(u.arcsec) ## in arcsec\n",
    "\n",
    "''' Path to the folder where to find your data and darks: '''\n",
    "folder = '/Users/Kamilobu/Desktop/Developer/foxsi3_optics_cal/data/'\n",
    "\n",
    "''' File names: '''\n",
    "filename = 'kFOXSI3_X10-Test_CCD_T2Sx6_10kV_0p02mA_0mmZ.fits'  ## name of your data fits file.\n",
    "darkfilename = 'Dark1_FOXSI3_X10-Test_CCD_T2Sx6_10kV_0p02mA_+15mmZ.fits'  ## name of your darks fits file.\n",
    "## These are fits files containing six frames each of 1024x1024 pixels taken at the SLF\n",
    "## using the Andor camera and the Mo X-ray source. Voltages,Currents and Integration Times are \n",
    "## indicated over the names of the files.\n",
    "\n",
    "## Read fits files using astropy.io.fits\n",
    "fits = pyfits.open(folder+filename)\n",
    "darkfits = pyfits.open(folder+darkfilename)\n",
    "\n",
    "## Create data array corrected by darks:\n",
    "data = np.average(fits[0].data, axis=0) - np.average(darkfits[0].data, axis=0)\n",
    "\n",
    "''' Create the WCS information '''\n",
    "wcs_dict = {\n",
    "    'CTYPE1':'HPLT-TAN', ## To use sunpy this needs to be in helioporject coord.\n",
    "    'CTYPE2':'HPLN-TAN', ## Although strange, it does not affect any of the analysis.\n",
    "    'CUNIT1':'arcsec',\n",
    "    'CUNIT2':'arcsec',\n",
    "    'CDELT1': plate_scale.value, ## Plate scale in arcsec\n",
    "    'CDELT2': plate_scale.value, ## Plate scale in arcsec\n",
    "    'CRPIX1':0,\n",
    "    'CRPIX2':0,\n",
    "    'CRVAL1': 0,\n",
    "    'CRVAL2': 0,\n",
    "    'NAXIS1': data.shape[0],\n",
    "    'NAXIS2': data.shape[1]\n",
    "}\n",
    "input_wcs = wcs.WCS(wcs_dict)\n",
    "\n",
    "''' Create NDCube '''\n",
    "datacube = NDCube(data, input_wcs)\n",
    "max_pixel = np.unravel_index(np.argmax(datacube.data), datacube.data.shape)\n",
    "fov = [20, 20] ## [px,px]\n",
    "\n",
    "''' Definition of Two 2D-Gaussians function '''\n",
    "@models.custom_model\n",
    "def ThreeGaussians(x, y,\n",
    "                 x_mean=0, y_mean=0, theta=0,\n",
    "                 amp1=0, x1_stddev=0, y1_stddev=0, ## Gauss1 param\n",
    "                 amp2=0, x2_stddev=0, y2_stddev=0, ## Gauss2 param\n",
    "                 amp3=0, x3_stddev=0, y3_stddev=0, ## Gauss3 param\n",
    "                 offset=0): ## offset\n",
    "    ''' Constrain positive values for the amplitudes '''\n",
    "    if amp1 < 0:\n",
    "        amp1 = 1e12\n",
    "    if amp2 < 0:\n",
    "        amp2 = 1e12\n",
    "    if amp3 < 0:\n",
    "        amp3 = 1e12\n",
    "\n",
    "    '''Define Sum of Gauss funtions'''\n",
    "    g1 = models.Gaussian2D(amp1, x_mean, y_mean, x1_stddev, y1_stddev, theta)\n",
    "    g2 = models.Gaussian2D(amp2, x_mean, y_mean, x2_stddev, y2_stddev, theta)\n",
    "    g3 = models.Gaussian2D(amp3, x_mean, y_mean, x3_stddev, y3_stddev, theta)\n",
    "    ''' Defining Offset '''\n",
    "    oset = models.Const2D(amplitude=offset)\n",
    "    return g1(x,y) + g2(x,y) + g3(x,y) + oset(x,y)\n",
    "\n",
    "## Make X,Y,Z data for the TWO 2D-Gaussians:\n",
    "Xg, Yg = np.mgrid[0:datacube.data.shape[0], 0:datacube.data.shape[1]]\n",
    "\n",
    "''' Fit Three 2D-Gaussians '''\n",
    "## Initial Guess :\n",
    "ThreeG_guess = ThreeGaussians(x_mean=max_pixel[0], y_mean=max_pixel[1], theta=0,\n",
    "                          amp1=0.65*np.max(datacube.data),\n",
    "                          amp2 = 0.25*np.max(datacube.data),\n",
    "                          amp3 = 0.09*np.max(datacube.data),\n",
    "                          x1_stddev=2, y1_stddev=2,\n",
    "                          x2_stddev=2, y2_stddev=2,\n",
    "                          x3_stddev=2, y3_stddev=2,offset=0)\n",
    "\n",
    "## Finding best fit:\n",
    "fit2DG = fitting.LevMarLSQFitter()\n",
    "ThreeG_out = fit2DG(ThreeG_guess, Xg, Yg, datacube.data, maxiter=320) ## maxiter keyword is the max number of iterations.\n",
    "Zout = ThreeG_out(Xg, Yg)\n",
    "\n",
    "## Individual Gaussian Functions:\n",
    "g1 = models.Gaussian2D(ThreeG_out.amp1.value, ThreeG_out.x_mean.value, \n",
    "                       ThreeG_out.y_mean.value, ThreeG_out.x1_stddev.value, \n",
    "                       ThreeG_out.y1_stddev.value, ThreeG_out.theta.value)\n",
    "g2 = models.Gaussian2D(ThreeG_out.amp2.value, ThreeG_out.x_mean.value, \n",
    "                       ThreeG_out.y_mean.value, ThreeG_out.x2_stddev.value, \n",
    "                       ThreeG_out.y2_stddev.value, ThreeG_out.theta.value)\n",
    "g3 = models.Gaussian2D(ThreeG_out.amp3.value, ThreeG_out.x_mean.value, \n",
    "                       ThreeG_out.y_mean.value, ThreeG_out.x3_stddev.value, \n",
    "                       ThreeG_out.y3_stddev.value, ThreeG_out.theta.value)\n",
    "### Individual Gaussian Arrays:\n",
    "G1 = g1(Xg, Yg)\n",
    "G2 = g2(Xg, Yg)\n",
    "G3 = g3(Xg, Yg)"
   ]
  },
  {
   "cell_type": "markdown",
   "metadata": {},
   "source": [
    "#### Plotting"
   ]
  },
  {
   "cell_type": "markdown",
   "metadata": {},
   "source": [
    "##### Plot Flat Fitted Gaussians "
   ]
  },
  {
   "cell_type": "code",
   "execution_count": null,
   "metadata": {},
   "outputs": [],
   "source": [
    "# Create ImageNormalize objects:\n",
    "normLogT = ImageNormalize(Zout, interval=MinMaxInterval(),stretch=LogStretch())\n",
    "normLog1 = ImageNormalize(G1, interval=MinMaxInterval(),stretch=LogStretch())\n",
    "normLog2 = ImageNormalize(G2, interval=MinMaxInterval(),stretch=LogStretch())\n",
    "normLog3 = ImageNormalize(G3, interval=MinMaxInterval(),stretch=LogStretch())\n",
    "\n",
    "''' Plotting '''\n",
    "fig, ((ax1, ax2), (ax3, ax4)) = plt.subplots(2, 2,figsize=(10,8),\n",
    "                                             subplot_kw=dict(projection=datacube.wcs))\n",
    "fig.subplots_adjust(wspace = 0.4) ## Sets space between subplots to avoid overlap\n",
    "## Best fit of the all three gaussians:\n",
    "im1 = ax1.imshow(Zout, origin='lower', cmap=plt.cm.viridis,norm=normLogT)\n",
    "cbar1 = fig.colorbar(im1, ax=ax1, fraction=0.046, pad=0.04)\n",
    "ax1.set_xlim(max_pixel[1]-fov[1], max_pixel[1]+fov[1])\n",
    "ax1.set_ylim(max_pixel[0]-fov[0], max_pixel[0]+fov[0])\n",
    "ax1.set_title('Three 2D-GaussFit Log scale',fontsize=14)\n",
    "## Gaussian One:\n",
    "im2 = ax2.imshow(G1, origin='lower', cmap=plt.cm.viridis,norm=normLog1)\n",
    "cbar2 = fig.colorbar(im2,ax=ax2)\n",
    "ax2.set_xlim(max_pixel[1]-fov[1], max_pixel[1]+fov[1])\n",
    "ax2.set_ylim(max_pixel[0]-fov[0], max_pixel[0]+fov[0])\n",
    "ax2.set_title('2D-Gaussian One - Log scale',fontsize=14)\n",
    "## Gaussian Two:\n",
    "im3 = ax3.imshow(G2, origin='lower', cmap=plt.cm.viridis,norm=normLog2)\n",
    "cbar3 = fig.colorbar(im3,ax=ax3)\n",
    "ax3.set_xlim(max_pixel[1]-fov[1], max_pixel[1]+fov[1])\n",
    "ax3.set_ylim(max_pixel[0]-fov[0], max_pixel[0]+fov[0])\n",
    "ax3.set_title('2D-Gaussian Two - Log scale',fontsize=14)\n",
    "## Gaussian Two:\n",
    "im4 = ax4.imshow(G3, origin='lower', cmap=plt.cm.viridis,norm=normLog3)\n",
    "cbar4 = fig.colorbar(im4,ax=ax4)\n",
    "ax4.set_xlim(max_pixel[1]-fov[1], max_pixel[1]+fov[1])\n",
    "ax4.set_ylim(max_pixel[0]-fov[0], max_pixel[0]+fov[0])\n",
    "ax4.set_title('2D-Gaussian Three - Log scale',fontsize=14)\n",
    "plt.show()\n",
    "\n",
    "''' Print what the amplitud ratios are '''\n",
    "print('The amplitud ratios for the three 2D-Gaussians are: A1 = {0}, A2 = {1}, and {2}.'\n",
    "      .format(ThreeG_out.amp1.value/(ThreeG_out.amp1.value+ThreeG_out.amp2.value+ThreeG_out.amp3.value),\n",
    "              ThreeG_out.amp2.value/(ThreeG_out.amp1.value+ThreeG_out.amp2.value+ThreeG_out.amp3.value),\n",
    "              ThreeG_out.amp3.value/(ThreeG_out.amp1.value+ThreeG_out.amp2.value+ThreeG_out.amp3.value),\n",
    "       ))\n",
    "print('Offset = {0}'.format(ThreeG_out.offset.value))"
   ]
  },
  {
   "cell_type": "markdown",
   "metadata": {},
   "source": [
    "##### Plot  3D Fitted Gaussians"
   ]
  },
  {
   "cell_type": "code",
   "execution_count": null,
   "metadata": {},
   "outputs": [],
   "source": [
    "''' Clipping data '''\n",
    "fov = [7,7]\n",
    "sXg = Xg[max_pixel[0]-fov[0]:max_pixel[0]+fov[0],max_pixel[1]-fov[1]:max_pixel[1]+fov[1]]\n",
    "sYg = Yg[max_pixel[0]-fov[0]:max_pixel[0]+fov[0],max_pixel[1]-fov[1]:max_pixel[1]+fov[1]]\n",
    "sZout = ThreeG_out(sXg, sYg)\n",
    "sG1 = g1(sXg, sYg)\n",
    "sG2 = g2(sXg, sYg)\n",
    "sG3 = g3(sXg, sYg)\n",
    "\n",
    "''' 3D plotting '''\n",
    "## Uncomment this line if you want interactivity\n",
    "#%matplotlib notebook\n",
    "%matplotlib inline\n",
    "\n",
    "fig, ((ax1, ax2), (ax3, ax4)) = plt.subplots(2, 2,figsize=(10,8),\n",
    "                                             subplot_kw=dict(projection='3d'))\n",
    "ax1.plot_surface(sXg,sYg,sZout,cmap=plt.cm.viridis)\n",
    "ax1.set_title('Three 2D-GaussFit',fontsize=14)\n",
    "ax1.set_zlim3d(0, sZout.max())\n",
    "ax2.plot_surface(sXg,sYg,sG1,cmap=plt.cm.viridis)\n",
    "ax2.set_title('2D-Gaussian One',fontsize=14)\n",
    "ax2.set_zlim3d(0, sZout.max())\n",
    "ax3.plot_surface(sXg,sYg,sG2,cmap=plt.cm.viridis)\n",
    "ax3.set_title('2D-Gaussian Two',fontsize=14)\n",
    "ax3.set_zlim3d(0, sZout.max())\n",
    "ax4.plot_surface(sXg,sYg,sG3,cmap=plt.cm.viridis)\n",
    "ax4.set_title('2D-Gaussian Three',fontsize=14)\n",
    "ax4.set_zlim3d(0, sZout.max())\n",
    "plt.show()"
   ]
  },
  {
   "cell_type": "markdown",
   "metadata": {},
   "source": [
    "##### Plot Difference Data vs Fit"
   ]
  },
  {
   "cell_type": "code",
   "execution_count": null,
   "metadata": {},
   "outputs": [],
   "source": [
    "fov = [15,15]\n",
    "fig, ax1 = plt.subplots(figsize=(6,6),subplot_kw=dict(projection=datacube.wcs))\n",
    "im1 = ax1.imshow(datacube.data-Zout, origin='lower', cmap=plt.cm.bwr_r)\n",
    "cbar1 = fig.colorbar(im1, ax=ax1, fraction=0.046, pad=0.04)\n",
    "ax1.set_xlim(max_pixel[1]-fov[1], max_pixel[1]+fov[1])\n",
    "ax1.set_ylim(max_pixel[0]-fov[0], max_pixel[0]+fov[0])\n",
    "ax1.set_title('Difference Data vs Fit - Log scale',fontsize=18)\n",
    "plt.show()"
   ]
  }
 ],
 "metadata": {
  "kernelspec": {
   "display_name": "Python 3",
   "language": "python",
   "name": "python3"
  },
  "language_info": {
   "codemirror_mode": {
    "name": "ipython",
    "version": 3
   },
   "file_extension": ".py",
   "mimetype": "text/x-python",
   "name": "python",
   "nbconvert_exporter": "python",
   "pygments_lexer": "ipython3",
   "version": "3.7.3"
  },
  "latex_envs": {
   "LaTeX_envs_menu_present": true,
   "autoclose": false,
   "autocomplete": true,
   "bibliofile": "biblio.bib",
   "cite_by": "apalike",
   "current_citInitial": 1,
   "eqLabelWithNumbers": true,
   "eqNumInitial": 1,
   "hotkeys": {
    "equation": "Ctrl-E",
    "itemize": "Ctrl-I"
   },
   "labels_anchors": false,
   "latex_user_defs": false,
   "report_style_numbering": false,
   "user_envs_cfg": false
  }
 },
 "nbformat": 4,
 "nbformat_minor": 2
}
