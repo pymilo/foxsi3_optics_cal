{
 "cells": [
  {
   "cell_type": "markdown",
   "metadata": {},
   "source": [
    "# General Goal:\n",
    "<div class=\"alert alert-info\">\n",
    "    To load a set of Data taken at the Stray Light Facility NASA MSFC. They are saved in FITS format. A set of Dark files are also load to be substracted to the data. Two 2D Gaussians are fitted to the data. \n",
    "</div>\n",
    "\n",
    "**Milo @ UC Berkeley**  \n",
    "**Jun 2019**"
   ]
  },
  {
   "cell_type": "markdown",
   "metadata": {},
   "source": [
    "## Load and plot SLF Data:\n",
    "<div class=\"alert alert-info\">\n",
    "    Goal: Simple way to load SLF data, correct by dark frames and plot them in linear and log scales. To run this code you need to have a fits file with the data you want to analyse and a fits with dark frames. Output: Dimensions of the imput data and two plots, one in linear and the other in log color scale.\n",
    "</div>"
   ]
  },
  {
   "cell_type": "markdown",
   "metadata": {},
   "source": [
    "### Import Packages:"
   ]
  },
  {
   "cell_type": "code",
   "execution_count": 1,
   "metadata": {},
   "outputs": [],
   "source": [
    "from astropy import wcs\n",
    "from astropy.io import fits as pyfits\n",
    "from ndcube import NDCube\n",
    "from astropy.visualization import ImageNormalize, MinMaxInterval, LogStretch, LinearStretch\n",
    "from astropy.modeling import models, fitting\n",
    "import astropy.units as u\n",
    "import numpy as np\n",
    "import matplotlib.pyplot as plt"
   ]
  },
  {
   "cell_type": "markdown",
   "metadata": {},
   "source": [
    "### Worksapce:"
   ]
  },
  {
   "cell_type": "code",
   "execution_count": 2,
   "metadata": {},
   "outputs": [
    {
     "name": "stdout",
     "output_type": "stream",
     "text": [
      "Data shape  : (6, 1024, 1024)\n",
      "Darks shape : (6, 1024, 1024)\n"
     ]
    },
    {
     "data": {
      "image/png": "[encoded data removed]",
      "text/plain": [
       "<Figure size 720x288 with 4 Axes>"
      ]
     },
     "metadata": {
      "needs_background": "light"
     },
     "output_type": "display_data"
    }
   ],
   "source": [
    "''' Plate scale '''\n",
    "distance = 2. * u.m ## FOXSI focal distance\n",
    "CCD_PIXEL_PITCH = 13.5 * u.micron ## Andor CCD Pitch in microns\n",
    "binning = 2. ## binning used for collecting data.\n",
    "plate_scale = np.arctan(binning * CCD_PIXEL_PITCH / distance).to(u.arcsec) ## in arcsec\n",
    "\n",
    "''' Path to the folder where to find your data and darks: '''\n",
    "folder = '/Users/Kamilobu/Desktop/Developer/foxsi3_optics_cal/data/'\n",
    "\n",
    "''' File names: '''\n",
    "filename = 'kFOXSI3_X10-Test_CCD_T2Sx6_10kV_0p02mA_0mmZ.fits'  ## name of your data fits file.\n",
    "darkfilename = 'Dark1_FOXSI3_X10-Test_CCD_T2Sx6_10kV_0p02mA_+15mmZ.fits'  ## name of your darks fits file.\n",
    "## These are fits files containing six frames each of 1024x1024 pixels taken at the SLF\n",
    "## using the Andor camera and the Mo X-ray source. Voltages,Currents and Integration Times are \n",
    "## indicated over the names of the files.\n",
    "\n",
    "## Read fits files using astropy.io.fits\n",
    "fits = pyfits.open(folder+filename)\n",
    "darkfits = pyfits.open(folder+darkfilename)\n",
    "print('Data shape  : '+str(fits[0].data.shape))\n",
    "print('Darks shape : '+str(darkfits[0].data.shape))\n",
    "\n",
    "## Create data array corrected by darks:\n",
    "data = np.average(fits[0].data, axis=0) - np.average(darkfits[0].data, axis=0)\n",
    "max_pixel = np.unravel_index(np.argmax(data), data.shape)\n",
    "fov = [20, 20] ## [px,px]\n",
    "sdata = data[max_pixel[0]-fov[0]:max_pixel[0]+fov[0],max_pixel[1]-fov[1]:max_pixel[1]+fov[1]]/data.max()\n",
    "\n",
    "''' Create the WCS information '''\n",
    "wcs_dict = {\n",
    "    'CTYPE1':'HPLT-TAN', ## To use sunpy this needs to be in helioporject coord.\n",
    "    'CTYPE2':'HPLN-TAN', ## Although strange, it does not affect any of the analysis.\n",
    "    'CUNIT1':'arcsec',\n",
    "    'CUNIT2':'arcsec',\n",
    "    'CDELT1': plate_scale.value, ## Plate scale in arcsec\n",
    "    'CDELT2': plate_scale.value, ## Plate scale in arcsec\n",
    "    'CRPIX1':0,\n",
    "    'CRPIX2':0,\n",
    "    'CRVAL1': 0,\n",
    "    'CRVAL2': 0,\n",
    "    'NAXIS1': sdata.shape[0],\n",
    "    'NAXIS2': sdata.shape[1]\n",
    "}\n",
    "input_wcs = wcs.WCS(wcs_dict)\n",
    "\n",
    "''' Create NDCube '''\n",
    "datacube = NDCube(sdata, input_wcs)\n",
    "\n",
    "# Create an ImageNormalize object\n",
    "normLin = ImageNormalize(datacube.data, interval=MinMaxInterval(),\n",
    "                      stretch=LinearStretch()) ## Linear Color Scale\n",
    "normLog = ImageNormalize(datacube.data, interval=MinMaxInterval(),\n",
    "                      stretch=LogStretch())    ## Log Color Scale\n",
    "\n",
    "''' Plotting '''\n",
    "fig, (ax1, ax2) = plt.subplots(1, 2,figsize=(10,4),subplot_kw=dict(projection=datacube.wcs))\n",
    "fig.subplots_adjust(wspace = 0.4)\n",
    "## Linear Scale:\n",
    "im1 = ax1.imshow(datacube.data, origin='lower', cmap=plt.cm.viridis, norm=normLin)\n",
    "cbar1 = fig.colorbar(im1, ax=ax1, fraction=0.046, pad=0.04)\n",
    "#ax1.set_xlim(max_pixel[1]-fov[1], max_pixel[1]+fov[1])\n",
    "#ax1.set_ylim(max_pixel[0]-fov[0], max_pixel[0]+fov[0])\n",
    "ax1.set_title('FOXSI3 - SLF Data Linear Color scale [on-axis]',fontsize=12)\n",
    "## Log Scale:\n",
    "im2 = ax2.imshow(datacube.data, origin='lower', cmap=plt.cm.viridis, norm=normLog)\n",
    "cbar2 = fig.colorbar(im2, ax=ax2, fraction=0.046, pad=0.04)\n",
    "#ax2.set_xlim(max_pixel[1]-fov[1], max_pixel[1]+fov[1])\n",
    "#ax2.set_ylim(max_pixel[0]-fov[0], max_pixel[0]+fov[0])\n",
    "ax2.set_title('FOXSI3 - SLF Data Log Color scale [on-axis]',fontsize=12)\n",
    "plt.show()"
   ]
  }
 ],
 "metadata": {
  "kernelspec": {
   "display_name": "Python 3",
   "language": "python",
   "name": "python3"
  },
  "language_info": {
   "codemirror_mode": {
    "name": "ipython",
    "version": 3
   },
   "file_extension": ".py",
   "mimetype": "text/x-python",
   "name": "python",
   "nbconvert_exporter": "python",
   "pygments_lexer": "ipython3",
   "version": "3.7.3"
  },
  "latex_envs": {
   "LaTeX_envs_menu_present": true,
   "autoclose": false,
   "autocomplete": true,
   "bibliofile": "biblio.bib",
   "cite_by": "apalike",
   "current_citInitial": 1,
   "eqLabelWithNumbers": true,
   "eqNumInitial": 1,
   "hotkeys": {
    "equation": "Ctrl-E",
    "itemize": "Ctrl-I"
   },
   "labels_anchors": false,
   "latex_user_defs": false,
   "report_style_numbering": false,
   "user_envs_cfg": false
  }
 },
 "nbformat": 4,
 "nbformat_minor": 2
}
